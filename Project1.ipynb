{
 "cells": [
  {
   "cell_type": "markdown",
   "id": "6a81d6d6",
   "metadata": {},
   "source": [
    "The NPI is a unique identification number for covered health care providers."
   ]
  },
  {
   "cell_type": "code",
   "execution_count": 1,
   "id": "4bbab7d3",
   "metadata": {},
   "outputs": [],
   "source": [
    "import pandas as pd\n",
    "npidata_s = pd.read_csv(\"/Users/cynding/Desktop/Brandeis 2022 Spring/HS 256F - Healthcare Data Analytics/HW1/NPPES_Data_Dissemination_January_2022/npidata_pfile_20050523-20220109.csv\",usecols=['NPI','Provider License Number State Code_1','Provider Business Mailing Address State Name','Healthcare Provider Taxonomy Code_1','Provider Gender Code','Provider Last Name (Legal Name)','Provider First Name'])"
   ]
  },
  {
   "cell_type": "markdown",
   "id": "da825c52",
   "metadata": {},
   "source": [
    "## Question 1\n",
    "\n",
    "MA"
   ]
  },
  {
   "cell_type": "code",
   "execution_count": 2,
   "id": "691da083",
   "metadata": {},
   "outputs": [
    {
     "data": {
      "text/html": [
       "<div>\n",
       "<style scoped>\n",
       "    .dataframe tbody tr th:only-of-type {\n",
       "        vertical-align: middle;\n",
       "    }\n",
       "\n",
       "    .dataframe tbody tr th {\n",
       "        vertical-align: top;\n",
       "    }\n",
       "\n",
       "    .dataframe thead th {\n",
       "        text-align: right;\n",
       "    }\n",
       "</style>\n",
       "<table border=\"1\" class=\"dataframe\">\n",
       "  <thead>\n",
       "    <tr style=\"text-align: right;\">\n",
       "      <th></th>\n",
       "      <th>NPI</th>\n",
       "      <th>Provider Last Name (Legal Name)</th>\n",
       "      <th>Provider First Name</th>\n",
       "      <th>Provider Business Mailing Address State Name</th>\n",
       "      <th>Provider Gender Code</th>\n",
       "      <th>Healthcare Provider Taxonomy Code_1</th>\n",
       "      <th>Provider License Number State Code_1</th>\n",
       "    </tr>\n",
       "  </thead>\n",
       "  <tbody>\n",
       "    <tr>\n",
       "      <th>1724076</th>\n",
       "      <td>1801936497</td>\n",
       "      <td>CAPLAN</td>\n",
       "      <td>ROBERTA</td>\n",
       "      <td>MA</td>\n",
       "      <td>F</td>\n",
       "      <td>103T00000X</td>\n",
       "      <td>MA</td>\n",
       "    </tr>\n",
       "  </tbody>\n",
       "</table>\n",
       "</div>"
      ],
      "text/plain": [
       "                NPI Provider Last Name (Legal Name) Provider First Name  \\\n",
       "1724076  1801936497                          CAPLAN             ROBERTA   \n",
       "\n",
       "        Provider Business Mailing Address State Name Provider Gender Code  \\\n",
       "1724076                                           MA                    F   \n",
       "\n",
       "        Healthcare Provider Taxonomy Code_1  \\\n",
       "1724076                          103T00000X   \n",
       "\n",
       "        Provider License Number State Code_1  \n",
       "1724076                                   MA  "
      ]
     },
     "execution_count": 2,
     "metadata": {},
     "output_type": "execute_result"
    }
   ],
   "source": [
    "npidata_s[(npidata_s['Provider First Name']=='ROBERTA') & (npidata_s['Provider Last Name (Legal Name)']=='CAPLAN')]"
   ]
  },
  {
   "cell_type": "markdown",
   "id": "96f875b5",
   "metadata": {},
   "source": [
    "### Filter out the designated States"
   ]
  },
  {
   "cell_type": "code",
   "execution_count": 3,
   "id": "128e4092",
   "metadata": {},
   "outputs": [
    {
     "data": {
      "text/plain": [
       "(1202359, 7)"
      ]
     },
     "execution_count": 3,
     "metadata": {},
     "output_type": "execute_result"
    }
   ],
   "source": [
    "State_list = ['HI','MI','MN','MS','NY','OK','SD','TN']\n",
    "npidata = npidata_s[npidata_s['Provider Business Mailing Address State Name'].isin(State_list)]\n",
    "npidata.shape"
   ]
  },
  {
   "cell_type": "markdown",
   "id": "185a8c18",
   "metadata": {},
   "source": [
    "## Question 3"
   ]
  },
  {
   "cell_type": "code",
   "execution_count": 4,
   "id": "f0552d78",
   "metadata": {},
   "outputs": [
    {
     "data": {
      "text/plain": [
       "7     231H00000X\n",
       "11    207V00000X\n",
       "12    363A00000X\n",
       "17    208600000X\n",
       "18    174400000X\n",
       "Name: Healthcare Provider Taxonomy Code_1, dtype: object"
      ]
     },
     "execution_count": 4,
     "metadata": {},
     "output_type": "execute_result"
    }
   ],
   "source": [
    "npidata['Healthcare Provider Taxonomy Code_1'].head()"
   ]
  },
  {
   "cell_type": "markdown",
   "id": "732deea2",
   "metadata": {},
   "source": [
    "### Low Risk\n",
    "Obstetrics & Gynecology 207V00000X\n",
    "Pediatrics \t208000000X\n",
    "\n",
    "### High Risk\n",
    "Surgery \t208600000X\n",
    "Orthopaedic Surgery \t207X00000X"
   ]
  },
  {
   "cell_type": "code",
   "execution_count": 5,
   "id": "73274d05",
   "metadata": {},
   "outputs": [],
   "source": [
    "low_risk = ['207V00000X','208000000X']\n",
    "high_risk = ['208600000X','207X00000X']"
   ]
  },
  {
   "cell_type": "code",
   "execution_count": 6,
   "id": "258b053f",
   "metadata": {},
   "outputs": [],
   "source": [
    "import scipy.stats"
   ]
  },
  {
   "cell_type": "code",
   "execution_count": 7,
   "id": "ed581089",
   "metadata": {},
   "outputs": [],
   "source": [
    "male_low_risk = len(npidata[(npidata['Provider Gender Code']=='M') & (npidata['Healthcare Provider Taxonomy Code_1'].isin(low_risk))])\n",
    "male_high_risk = len(npidata[(npidata['Provider Gender Code']=='M') & (npidata['Healthcare Provider Taxonomy Code_1'].isin(high_risk))])"
   ]
  },
  {
   "cell_type": "code",
   "execution_count": 8,
   "id": "7dc3607d",
   "metadata": {},
   "outputs": [],
   "source": [
    "female_low_risk = len(npidata[(npidata['Provider Gender Code']=='F') & (npidata['Healthcare Provider Taxonomy Code_1'].isin(low_risk))])\n",
    "female_high_risk = len(npidata[(npidata['Provider Gender Code']=='F') & (npidata['Healthcare Provider Taxonomy Code_1'].isin(high_risk))])"
   ]
  },
  {
   "cell_type": "code",
   "execution_count": 9,
   "id": "3581e222",
   "metadata": {},
   "outputs": [
    {
     "data": {
      "text/html": [
       "<div>\n",
       "<style scoped>\n",
       "    .dataframe tbody tr th:only-of-type {\n",
       "        vertical-align: middle;\n",
       "    }\n",
       "\n",
       "    .dataframe tbody tr th {\n",
       "        vertical-align: top;\n",
       "    }\n",
       "\n",
       "    .dataframe thead th {\n",
       "        text-align: right;\n",
       "    }\n",
       "</style>\n",
       "<table border=\"1\" class=\"dataframe\">\n",
       "  <thead>\n",
       "    <tr style=\"text-align: right;\">\n",
       "      <th></th>\n",
       "      <th>Male</th>\n",
       "      <th>Female</th>\n",
       "    </tr>\n",
       "    <tr>\n",
       "      <th>Risk</th>\n",
       "      <th></th>\n",
       "      <th></th>\n",
       "    </tr>\n",
       "  </thead>\n",
       "  <tbody>\n",
       "    <tr>\n",
       "      <th>High Risk</th>\n",
       "      <td>8149</td>\n",
       "      <td>1626</td>\n",
       "    </tr>\n",
       "    <tr>\n",
       "      <th>Low Risk</th>\n",
       "      <td>7169</td>\n",
       "      <td>11903</td>\n",
       "    </tr>\n",
       "  </tbody>\n",
       "</table>\n",
       "</div>"
      ],
      "text/plain": [
       "           Male  Female\n",
       "Risk                   \n",
       "High Risk  8149    1626\n",
       "Low Risk   7169   11903"
      ]
     },
     "execution_count": 9,
     "metadata": {},
     "output_type": "execute_result"
    }
   ],
   "source": [
    "df = pd.DataFrame({'Risk':['High Risk','Low Risk'],\n",
    "    'Male':[male_high_risk,male_low_risk],\n",
    "    'Female':[female_high_risk,female_low_risk]\n",
    "})\n",
    "df.set_index('Risk')"
   ]
  },
  {
   "cell_type": "markdown",
   "id": "1e618ad3",
   "metadata": {},
   "source": [
    "Null = there is no association between practitioner gender and the taxonomy."
   ]
  },
  {
   "cell_type": "code",
   "execution_count": 10,
   "id": "f237af79",
   "metadata": {},
   "outputs": [],
   "source": [
    "from scipy.stats import fisher_exact"
   ]
  },
  {
   "cell_type": "code",
   "execution_count": 11,
   "id": "721be3b4",
   "metadata": {},
   "outputs": [
    {
     "data": {
      "text/plain": [
       "0.0"
      ]
     },
     "execution_count": 11,
     "metadata": {},
     "output_type": "execute_result"
    }
   ],
   "source": [
    "oddsratio,pvalue=fisher_exact([[male_low_risk,male_high_risk], [female_low_risk,female_high_risk]])\n",
    "pvalue"
   ]
  },
  {
   "cell_type": "markdown",
   "id": "83904eec",
   "metadata": {},
   "source": [
    "## Question 4"
   ]
  },
  {
   "cell_type": "code",
   "execution_count": 12,
   "id": "97cb0d20",
   "metadata": {},
   "outputs": [],
   "source": [
    "npidata_4 = pd.read_csv(\"/Users/cynding/Desktop/Brandeis 2022 Spring/HS 256F - Healthcare Data Analytics/HW1/NPPES_Data_Dissemination_January_2022/npidata_pfile_20050523-20220109.csv\",usecols=['NPI','Entity Type Code','Healthcare Provider Taxonomy Code_1','Provider Business Mailing Address State Name'])"
   ]
  },
  {
   "cell_type": "code",
   "execution_count": 13,
   "id": "2f888da6",
   "metadata": {},
   "outputs": [],
   "source": [
    "npidata_4 = npidata_4[(npidata_4['Entity Type Code']==2) & (npidata_4['Healthcare Provider Taxonomy Code_1']=='261QM1200X')]"
   ]
  },
  {
   "cell_type": "code",
   "execution_count": 14,
   "id": "0ff5b380",
   "metadata": {},
   "outputs": [],
   "source": [
    "mri = npidata_4.groupby(npidata_4['Provider Business Mailing Address State Name']).count()"
   ]
  },
  {
   "cell_type": "code",
   "execution_count": 15,
   "id": "d65d1d66",
   "metadata": {},
   "outputs": [],
   "source": [
    "mri = mri[['NPI']]\n",
    "mri.rename_axis('State',inplace=True)"
   ]
  },
  {
   "cell_type": "markdown",
   "id": "09eff3c1",
   "metadata": {},
   "source": [
    "The population data by States was downloaded from the United States Census Bureau."
   ]
  },
  {
   "cell_type": "code",
   "execution_count": 16,
   "id": "d19a3691",
   "metadata": {},
   "outputs": [],
   "source": [
    "population = pd.read_excel('/Users/cynding/Desktop/Brandeis 2022 Spring/HS 256F - Healthcare Data Analytics/HW1/Population.xlsx')"
   ]
  },
  {
   "cell_type": "code",
   "execution_count": 17,
   "id": "98efa786",
   "metadata": {},
   "outputs": [
    {
     "data": {
      "text/html": [
       "<div>\n",
       "<style scoped>\n",
       "    .dataframe tbody tr th:only-of-type {\n",
       "        vertical-align: middle;\n",
       "    }\n",
       "\n",
       "    .dataframe tbody tr th {\n",
       "        vertical-align: top;\n",
       "    }\n",
       "\n",
       "    .dataframe thead th {\n",
       "        text-align: right;\n",
       "    }\n",
       "</style>\n",
       "<table border=\"1\" class=\"dataframe\">\n",
       "  <thead>\n",
       "    <tr style=\"text-align: right;\">\n",
       "      <th></th>\n",
       "      <th>Geographical Area</th>\n",
       "      <th>July 1 2020</th>\n",
       "      <th>State</th>\n",
       "    </tr>\n",
       "  </thead>\n",
       "  <tbody>\n",
       "    <tr>\n",
       "      <th>0</th>\n",
       "      <td>Alabama</td>\n",
       "      <td>4921532</td>\n",
       "      <td>AL</td>\n",
       "    </tr>\n",
       "    <tr>\n",
       "      <th>1</th>\n",
       "      <td>Alaska</td>\n",
       "      <td>731158</td>\n",
       "      <td>AK</td>\n",
       "    </tr>\n",
       "    <tr>\n",
       "      <th>2</th>\n",
       "      <td>Arizona</td>\n",
       "      <td>7421401</td>\n",
       "      <td>AZ</td>\n",
       "    </tr>\n",
       "    <tr>\n",
       "      <th>3</th>\n",
       "      <td>Arkansas</td>\n",
       "      <td>3030522</td>\n",
       "      <td>AR</td>\n",
       "    </tr>\n",
       "    <tr>\n",
       "      <th>4</th>\n",
       "      <td>California</td>\n",
       "      <td>39368078</td>\n",
       "      <td>CA</td>\n",
       "    </tr>\n",
       "  </tbody>\n",
       "</table>\n",
       "</div>"
      ],
      "text/plain": [
       "  Geographical Area  July 1 2020 State\n",
       "0           Alabama      4921532    AL\n",
       "1            Alaska       731158    AK\n",
       "2           Arizona      7421401    AZ\n",
       "3          Arkansas      3030522    AR\n",
       "4        California     39368078    CA"
      ]
     },
     "execution_count": 17,
     "metadata": {},
     "output_type": "execute_result"
    }
   ],
   "source": [
    "population.head()"
   ]
  },
  {
   "cell_type": "code",
   "execution_count": 18,
   "id": "1f855d4d",
   "metadata": {},
   "outputs": [],
   "source": [
    "population['population']=population['July 1 2020']/1000000\n",
    "#population.set_index(['State'])"
   ]
  },
  {
   "cell_type": "code",
   "execution_count": 19,
   "id": "d350a2c1",
   "metadata": {},
   "outputs": [],
   "source": [
    "df = mri.merge(population.drop(columns=['Geographical Area','July 1 2020']),on='State')\n",
    "df['NPI Density']=df['NPI']/df['population']"
   ]
  },
  {
   "cell_type": "code",
   "execution_count": 20,
   "id": "61046a2c",
   "metadata": {},
   "outputs": [],
   "source": [
    "df.to_csv('NPI Density.csv')"
   ]
  },
  {
   "cell_type": "code",
   "execution_count": null,
   "id": "42b1118a",
   "metadata": {},
   "outputs": [],
   "source": []
  }
 ],
 "metadata": {
  "kernelspec": {
   "display_name": "Python 3 (ipykernel)",
   "language": "python",
   "name": "python3"
  },
  "language_info": {
   "codemirror_mode": {
    "name": "ipython",
    "version": 3
   },
   "file_extension": ".py",
   "mimetype": "text/x-python",
   "name": "python",
   "nbconvert_exporter": "python",
   "pygments_lexer": "ipython3",
   "version": "3.8.8"
  }
 },
 "nbformat": 4,
 "nbformat_minor": 5
}
