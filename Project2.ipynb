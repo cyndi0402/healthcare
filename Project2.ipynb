{
 "cells": [
  {
   "cell_type": "markdown",
   "id": "9aa1afe9",
   "metadata": {},
   "source": [
    "## Question 2\n",
    "### Steps\n",
    "1. Load the datasets\n",
    "2. Filter out group 4 States\n",
    "3. Merge the dental benefit database with enrollment database\n",
    "4. Report by States\n",
    "5. Report by top-5 insurers"
   ]
  },
  {
   "cell_type": "markdown",
   "id": "2ed426c8",
   "metadata": {},
   "source": [
    "#### 1. Load the datasets"
   ]
  },
  {
   "cell_type": "code",
   "execution_count": 1,
   "id": "d5f80f55",
   "metadata": {},
   "outputs": [],
   "source": [
    "# keep the leading zeros in column `Plan ID`\n",
    "import pandas as pd\n",
    "enrollment = pd.read_csv('/Users/cynding/Desktop/Brandeis 2022 Spring/HS 256F - Healthcare Data Analytics/HW2/CPSC_Enrollment_2022_01/CPSC_Enrollment_Info_2022_01.csv')"
   ]
  },
  {
   "cell_type": "code",
   "execution_count": 2,
   "id": "7b607281",
   "metadata": {},
   "outputs": [
    {
     "name": "stderr",
     "output_type": "stream",
     "text": [
      "/Users/cynding/opt/anaconda3/lib/python3.8/site-packages/openpyxl/worksheet/header_footer.py:48: UserWarning: Cannot parse header or footer so it will be ignored\n",
      "  warn(\"\"\"Cannot parse header or footer so it will be ignored\"\"\")\n"
     ]
    },
    {
     "data": {
      "text/html": [
       "<div>\n",
       "<style scoped>\n",
       "    .dataframe tbody tr th:only-of-type {\n",
       "        vertical-align: middle;\n",
       "    }\n",
       "\n",
       "    .dataframe tbody tr th {\n",
       "        vertical-align: top;\n",
       "    }\n",
       "\n",
       "    .dataframe thead th {\n",
       "        text-align: right;\n",
       "    }\n",
       "</style>\n",
       "<table border=\"1\" class=\"dataframe\">\n",
       "  <thead>\n",
       "    <tr style=\"text-align: right;\">\n",
       "      <th></th>\n",
       "      <th>Contract Number</th>\n",
       "      <th>Plan ID</th>\n",
       "      <th>Organization Type</th>\n",
       "      <th>Plan Type</th>\n",
       "      <th>Offers Part D</th>\n",
       "      <th>Organization Name</th>\n",
       "      <th>Organization Marketing Name</th>\n",
       "      <th>Plan Name</th>\n",
       "      <th>Parent Organization</th>\n",
       "      <th>Contract Effective Date</th>\n",
       "      <th>Enrollment</th>\n",
       "    </tr>\n",
       "  </thead>\n",
       "  <tbody>\n",
       "    <tr>\n",
       "      <th>0</th>\n",
       "      <td>90091</td>\n",
       "      <td>NaN</td>\n",
       "      <td>HCPP - 1833 Cost</td>\n",
       "      <td>HCPP - 1833 Cost</td>\n",
       "      <td>No</td>\n",
       "      <td>UNITED MINE WORKERS OF AMERICA HLTH &amp; RETIREMENT</td>\n",
       "      <td>United Mine Workers of America Health &amp; Retire...</td>\n",
       "      <td>NaN</td>\n",
       "      <td>UMWA Health and Retirement Funds</td>\n",
       "      <td>1974-02-01 00:00:00</td>\n",
       "      <td>44280</td>\n",
       "    </tr>\n",
       "    <tr>\n",
       "      <th>1</th>\n",
       "      <td>H0022</td>\n",
       "      <td>1</td>\n",
       "      <td>Demo</td>\n",
       "      <td>Medicare-Medicaid Plan HMO</td>\n",
       "      <td>Yes</td>\n",
       "      <td>BUCKEYE COMMUNITY HEALTH PLAN, INC.</td>\n",
       "      <td>Buckeye Health Plan - MyCare Ohio</td>\n",
       "      <td>Buckeye Health Plan - MyCare Ohio (Medicare-Me...</td>\n",
       "      <td>Centene Corporation</td>\n",
       "      <td>2014-05-01 00:00:00</td>\n",
       "      <td>15752</td>\n",
       "    </tr>\n",
       "    <tr>\n",
       "      <th>2</th>\n",
       "      <td>H0028</td>\n",
       "      <td>7</td>\n",
       "      <td>Local CCP</td>\n",
       "      <td>HMO</td>\n",
       "      <td>Yes</td>\n",
       "      <td>CHA HMO, INC.</td>\n",
       "      <td>Humana</td>\n",
       "      <td>Humana Gold Plus SNP-DE H0028-007 (HMO D-SNP)</td>\n",
       "      <td>Humana Inc.</td>\n",
       "      <td>2013-01-01 00:00:00</td>\n",
       "      <td>686</td>\n",
       "    </tr>\n",
       "    <tr>\n",
       "      <th>3</th>\n",
       "      <td>H0028</td>\n",
       "      <td>13</td>\n",
       "      <td>Local CCP</td>\n",
       "      <td>HMO</td>\n",
       "      <td>Yes</td>\n",
       "      <td>CHA HMO, INC.</td>\n",
       "      <td>Humana</td>\n",
       "      <td>Humana Gold Plus H0028-013 (HMO)</td>\n",
       "      <td>Humana Inc.</td>\n",
       "      <td>2013-01-01 00:00:00</td>\n",
       "      <td>2984</td>\n",
       "    </tr>\n",
       "    <tr>\n",
       "      <th>4</th>\n",
       "      <td>H0028</td>\n",
       "      <td>14</td>\n",
       "      <td>Local CCP</td>\n",
       "      <td>HMO</td>\n",
       "      <td>Yes</td>\n",
       "      <td>CHA HMO, INC.</td>\n",
       "      <td>Humana</td>\n",
       "      <td>Humana Gold Plus H0028-014 (HMO)</td>\n",
       "      <td>Humana Inc.</td>\n",
       "      <td>2013-01-01 00:00:00</td>\n",
       "      <td>14941</td>\n",
       "    </tr>\n",
       "  </tbody>\n",
       "</table>\n",
       "</div>"
      ],
      "text/plain": [
       "  Contract Number Plan ID Organization Type                   Plan Type  \\\n",
       "0           90091     NaN  HCPP - 1833 Cost            HCPP - 1833 Cost   \n",
       "1           H0022       1              Demo  Medicare-Medicaid Plan HMO   \n",
       "2           H0028       7         Local CCP                         HMO   \n",
       "3           H0028      13         Local CCP                         HMO   \n",
       "4           H0028      14         Local CCP                         HMO   \n",
       "\n",
       "  Offers Part D                                 Organization Name  \\\n",
       "0            No  UNITED MINE WORKERS OF AMERICA HLTH & RETIREMENT   \n",
       "1           Yes               BUCKEYE COMMUNITY HEALTH PLAN, INC.   \n",
       "2           Yes                                     CHA HMO, INC.   \n",
       "3           Yes                                     CHA HMO, INC.   \n",
       "4           Yes                                     CHA HMO, INC.   \n",
       "\n",
       "                         Organization Marketing Name  \\\n",
       "0  United Mine Workers of America Health & Retire...   \n",
       "1                  Buckeye Health Plan - MyCare Ohio   \n",
       "2                                             Humana   \n",
       "3                                             Humana   \n",
       "4                                             Humana   \n",
       "\n",
       "                                           Plan Name  \\\n",
       "0                                                NaN   \n",
       "1  Buckeye Health Plan - MyCare Ohio (Medicare-Me...   \n",
       "2      Humana Gold Plus SNP-DE H0028-007 (HMO D-SNP)   \n",
       "3                   Humana Gold Plus H0028-013 (HMO)   \n",
       "4                   Humana Gold Plus H0028-014 (HMO)   \n",
       "\n",
       "                Parent Organization Contract Effective Date Enrollment   \n",
       "0  UMWA Health and Retirement Funds     1974-02-01 00:00:00       44280  \n",
       "1               Centene Corporation     2014-05-01 00:00:00       15752  \n",
       "2                       Humana Inc.     2013-01-01 00:00:00         686  \n",
       "3                       Humana Inc.     2013-01-01 00:00:00        2984  \n",
       "4                       Humana Inc.     2013-01-01 00:00:00       14941  "
      ]
     },
     "execution_count": 2,
     "metadata": {},
     "output_type": "execute_result"
    }
   ],
   "source": [
    "plan = pd.read_excel('/Users/cynding/Desktop/Brandeis 2022 Spring/HS 256F - Healthcare Data Analytics/HW2/Monthly_Report_By_Plan_2022_01/Monthly_Report_By_Plan_2022_01.xlsx',header=5,skipfooter=3,)\n",
    "plan.head()"
   ]
  },
  {
   "cell_type": "code",
   "execution_count": 3,
   "id": "a4cd37a9",
   "metadata": {},
   "outputs": [],
   "source": [
    "# keep the necessary columns\n",
    "plan = plan[['Contract Number','Plan ID','Organization Name']]"
   ]
  },
  {
   "cell_type": "code",
   "execution_count": 4,
   "id": "8fdc09a9",
   "metadata": {},
   "outputs": [
    {
     "name": "stderr",
     "output_type": "stream",
     "text": [
      "/Users/cynding/opt/anaconda3/lib/python3.8/site-packages/IPython/core/interactiveshell.py:3444: DtypeWarning: Columns (98) have mixed types.Specify dtype option on import or set low_memory=False.\n",
      "  exec(code_obj, self.user_global_ns, self.user_ns)\n"
     ]
    }
   ],
   "source": [
    "dental = pd.read_table('/Users/cynding/Desktop/Brandeis 2022 Spring/HS 256F - Healthcare Data Analytics/HW2/PBP_Benefits_2021 07_01_2021/pbp_b16_dental.txt')"
   ]
  },
  {
   "cell_type": "markdown",
   "id": "c35b9b22",
   "metadata": {},
   "source": [
    "#### 2. Filter out group 4 States"
   ]
  },
  {
   "cell_type": "code",
   "execution_count": 5,
   "id": "736fd94d",
   "metadata": {},
   "outputs": [],
   "source": [
    "State_list = ['HI','MI','MN','MS','NY','OK','SD','TN']\n",
    "enrollment = enrollment[enrollment['State'].isin(State_list)]"
   ]
  },
  {
   "cell_type": "markdown",
   "id": "6c53371e",
   "metadata": {},
   "source": [
    "#### 3. Merge the dental benefit database with enrollment database"
   ]
  },
  {
   "cell_type": "code",
   "execution_count": 6,
   "id": "5e6eef82",
   "metadata": {},
   "outputs": [],
   "source": [
    "# only keep the necessary columns\n",
    "dental = dental[['pbp_a_hnumber','pbp_a_plan_identifier','segment_id','pbp_b16a_bendesc_yn','pbp_b16b_bendesc_yn']]"
   ]
  },
  {
   "cell_type": "code",
   "execution_count": 7,
   "id": "7f2d824e",
   "metadata": {},
   "outputs": [
    {
     "data": {
      "text/html": [
       "<div>\n",
       "<style scoped>\n",
       "    .dataframe tbody tr th:only-of-type {\n",
       "        vertical-align: middle;\n",
       "    }\n",
       "\n",
       "    .dataframe tbody tr th {\n",
       "        vertical-align: top;\n",
       "    }\n",
       "\n",
       "    .dataframe thead th {\n",
       "        text-align: right;\n",
       "    }\n",
       "</style>\n",
       "<table border=\"1\" class=\"dataframe\">\n",
       "  <thead>\n",
       "    <tr style=\"text-align: right;\">\n",
       "      <th></th>\n",
       "      <th>Contract Number</th>\n",
       "      <th>Plan ID</th>\n",
       "      <th>State</th>\n",
       "      <th>pbp_a_hnumber</th>\n",
       "      <th>pbp_a_plan_identifier</th>\n",
       "      <th>segment_id</th>\n",
       "      <th>pbp_b16a_bendesc_yn</th>\n",
       "      <th>pbp_b16b_bendesc_yn</th>\n",
       "    </tr>\n",
       "  </thead>\n",
       "  <tbody>\n",
       "    <tr>\n",
       "      <th>0</th>\n",
       "      <td>H0022</td>\n",
       "      <td>1</td>\n",
       "      <td>HI</td>\n",
       "      <td>H0022</td>\n",
       "      <td>1</td>\n",
       "      <td>0</td>\n",
       "      <td>1.0</td>\n",
       "      <td>1.0</td>\n",
       "    </tr>\n",
       "    <tr>\n",
       "      <th>1</th>\n",
       "      <td>H0022</td>\n",
       "      <td>1</td>\n",
       "      <td>MI</td>\n",
       "      <td>H0022</td>\n",
       "      <td>1</td>\n",
       "      <td>0</td>\n",
       "      <td>1.0</td>\n",
       "      <td>1.0</td>\n",
       "    </tr>\n",
       "    <tr>\n",
       "      <th>2</th>\n",
       "      <td>H0022</td>\n",
       "      <td>1</td>\n",
       "      <td>MI</td>\n",
       "      <td>H0022</td>\n",
       "      <td>1</td>\n",
       "      <td>0</td>\n",
       "      <td>1.0</td>\n",
       "      <td>1.0</td>\n",
       "    </tr>\n",
       "    <tr>\n",
       "      <th>3</th>\n",
       "      <td>H0022</td>\n",
       "      <td>1</td>\n",
       "      <td>MI</td>\n",
       "      <td>H0022</td>\n",
       "      <td>1</td>\n",
       "      <td>0</td>\n",
       "      <td>1.0</td>\n",
       "      <td>1.0</td>\n",
       "    </tr>\n",
       "    <tr>\n",
       "      <th>4</th>\n",
       "      <td>H0022</td>\n",
       "      <td>1</td>\n",
       "      <td>MI</td>\n",
       "      <td>H0022</td>\n",
       "      <td>1</td>\n",
       "      <td>0</td>\n",
       "      <td>1.0</td>\n",
       "      <td>1.0</td>\n",
       "    </tr>\n",
       "  </tbody>\n",
       "</table>\n",
       "</div>"
      ],
      "text/plain": [
       "  Contract Number  Plan ID State pbp_a_hnumber  pbp_a_plan_identifier  \\\n",
       "0           H0022        1    HI         H0022                      1   \n",
       "1           H0022        1    MI         H0022                      1   \n",
       "2           H0022        1    MI         H0022                      1   \n",
       "3           H0022        1    MI         H0022                      1   \n",
       "4           H0022        1    MI         H0022                      1   \n",
       "\n",
       "   segment_id  pbp_b16a_bendesc_yn  pbp_b16b_bendesc_yn  \n",
       "0           0                  1.0                  1.0  \n",
       "1           0                  1.0                  1.0  \n",
       "2           0                  1.0                  1.0  \n",
       "3           0                  1.0                  1.0  \n",
       "4           0                  1.0                  1.0  "
      ]
     },
     "execution_count": 7,
     "metadata": {},
     "output_type": "execute_result"
    }
   ],
   "source": [
    "temp = pd.merge(enrollment[['Contract Number','Plan ID','State']],dental,how='inner',left_on=['Plan ID','Contract Number'], right_on=['pbp_a_plan_identifier','pbp_a_hnumber'])\n",
    "temp.head()"
   ]
  },
  {
   "cell_type": "markdown",
   "id": "dc5bb72b",
   "metadata": {},
   "source": [
    "#### Then merge our temporary dataframe with plan database to retrieve the insurer info. "
   ]
  },
  {
   "cell_type": "code",
   "execution_count": 8,
   "id": "9892d095",
   "metadata": {},
   "outputs": [],
   "source": [
    "df = pd.merge(temp,plan,how='inner',on=['Contract Number','Plan ID'])"
   ]
  },
  {
   "cell_type": "code",
   "execution_count": 9,
   "id": "d72e035f",
   "metadata": {},
   "outputs": [
    {
     "data": {
      "text/html": [
       "<div>\n",
       "<style scoped>\n",
       "    .dataframe tbody tr th:only-of-type {\n",
       "        vertical-align: middle;\n",
       "    }\n",
       "\n",
       "    .dataframe tbody tr th {\n",
       "        vertical-align: top;\n",
       "    }\n",
       "\n",
       "    .dataframe thead th {\n",
       "        text-align: right;\n",
       "    }\n",
       "</style>\n",
       "<table border=\"1\" class=\"dataframe\">\n",
       "  <thead>\n",
       "    <tr style=\"text-align: right;\">\n",
       "      <th></th>\n",
       "      <th>Contract Number</th>\n",
       "      <th>Plan ID</th>\n",
       "      <th>State</th>\n",
       "      <th>pbp_a_hnumber</th>\n",
       "      <th>pbp_a_plan_identifier</th>\n",
       "      <th>segment_id</th>\n",
       "      <th>pbp_b16a_bendesc_yn</th>\n",
       "      <th>pbp_b16b_bendesc_yn</th>\n",
       "      <th>Organization Name</th>\n",
       "    </tr>\n",
       "  </thead>\n",
       "  <tbody>\n",
       "    <tr>\n",
       "      <th>0</th>\n",
       "      <td>H0022</td>\n",
       "      <td>1</td>\n",
       "      <td>HI</td>\n",
       "      <td>H0022</td>\n",
       "      <td>1</td>\n",
       "      <td>0</td>\n",
       "      <td>1.0</td>\n",
       "      <td>1.0</td>\n",
       "      <td>BUCKEYE COMMUNITY HEALTH PLAN, INC.</td>\n",
       "    </tr>\n",
       "    <tr>\n",
       "      <th>1</th>\n",
       "      <td>H0022</td>\n",
       "      <td>1</td>\n",
       "      <td>MI</td>\n",
       "      <td>H0022</td>\n",
       "      <td>1</td>\n",
       "      <td>0</td>\n",
       "      <td>1.0</td>\n",
       "      <td>1.0</td>\n",
       "      <td>BUCKEYE COMMUNITY HEALTH PLAN, INC.</td>\n",
       "    </tr>\n",
       "    <tr>\n",
       "      <th>2</th>\n",
       "      <td>H0022</td>\n",
       "      <td>1</td>\n",
       "      <td>MI</td>\n",
       "      <td>H0022</td>\n",
       "      <td>1</td>\n",
       "      <td>0</td>\n",
       "      <td>1.0</td>\n",
       "      <td>1.0</td>\n",
       "      <td>BUCKEYE COMMUNITY HEALTH PLAN, INC.</td>\n",
       "    </tr>\n",
       "    <tr>\n",
       "      <th>3</th>\n",
       "      <td>H0022</td>\n",
       "      <td>1</td>\n",
       "      <td>MI</td>\n",
       "      <td>H0022</td>\n",
       "      <td>1</td>\n",
       "      <td>0</td>\n",
       "      <td>1.0</td>\n",
       "      <td>1.0</td>\n",
       "      <td>BUCKEYE COMMUNITY HEALTH PLAN, INC.</td>\n",
       "    </tr>\n",
       "    <tr>\n",
       "      <th>4</th>\n",
       "      <td>H0022</td>\n",
       "      <td>1</td>\n",
       "      <td>MI</td>\n",
       "      <td>H0022</td>\n",
       "      <td>1</td>\n",
       "      <td>0</td>\n",
       "      <td>1.0</td>\n",
       "      <td>1.0</td>\n",
       "      <td>BUCKEYE COMMUNITY HEALTH PLAN, INC.</td>\n",
       "    </tr>\n",
       "  </tbody>\n",
       "</table>\n",
       "</div>"
      ],
      "text/plain": [
       "  Contract Number Plan ID State pbp_a_hnumber  pbp_a_plan_identifier  \\\n",
       "0           H0022       1    HI         H0022                      1   \n",
       "1           H0022       1    MI         H0022                      1   \n",
       "2           H0022       1    MI         H0022                      1   \n",
       "3           H0022       1    MI         H0022                      1   \n",
       "4           H0022       1    MI         H0022                      1   \n",
       "\n",
       "   segment_id  pbp_b16a_bendesc_yn  pbp_b16b_bendesc_yn  \\\n",
       "0           0                  1.0                  1.0   \n",
       "1           0                  1.0                  1.0   \n",
       "2           0                  1.0                  1.0   \n",
       "3           0                  1.0                  1.0   \n",
       "4           0                  1.0                  1.0   \n",
       "\n",
       "                     Organization Name  \n",
       "0  BUCKEYE COMMUNITY HEALTH PLAN, INC.  \n",
       "1  BUCKEYE COMMUNITY HEALTH PLAN, INC.  \n",
       "2  BUCKEYE COMMUNITY HEALTH PLAN, INC.  \n",
       "3  BUCKEYE COMMUNITY HEALTH PLAN, INC.  \n",
       "4  BUCKEYE COMMUNITY HEALTH PLAN, INC.  "
      ]
     },
     "execution_count": 9,
     "metadata": {},
     "output_type": "execute_result"
    }
   ],
   "source": [
    "df.head()"
   ]
  },
  {
   "cell_type": "code",
   "execution_count": 10,
   "id": "9bdf69ef",
   "metadata": {},
   "outputs": [
    {
     "data": {
      "text/plain": [
       "0.09264531747493619"
      ]
     },
     "execution_count": 10,
     "metadata": {},
     "output_type": "execute_result"
    }
   ],
   "source": [
    "# the overall percentage of enrollees enjoying the “Preventive Dental Items as a supplemental benefit under Part C”?\n",
    "df[df['pbp_b16a_bendesc_yn']==1.0].shape[0]/df.shape[0]"
   ]
  },
  {
   "cell_type": "code",
   "execution_count": 11,
   "id": "1320ecc1",
   "metadata": {},
   "outputs": [
    {
     "data": {
      "text/plain": [
       "0.08729310843880746"
      ]
     },
     "execution_count": 11,
     "metadata": {},
     "output_type": "execute_result"
    }
   ],
   "source": [
    "# the overall percentage of enrollees enjoying the “Comprehensive Dental Items as a supplemental benefit under Part C”?\n",
    "df[df['pbp_b16b_bendesc_yn']==1.0].shape[0]/df.shape[0]"
   ]
  },
  {
   "cell_type": "markdown",
   "id": "a092fd90",
   "metadata": {},
   "source": [
    "#### 4. Report by States"
   ]
  },
  {
   "cell_type": "code",
   "execution_count": 12,
   "id": "4cd62195",
   "metadata": {},
   "outputs": [],
   "source": [
    "p_dental = df.groupby([df['State'],df['pbp_b16a_bendesc_yn']])['Contract Number'].count().unstack(level=1)"
   ]
  },
  {
   "cell_type": "code",
   "execution_count": 13,
   "id": "f781a34a",
   "metadata": {},
   "outputs": [],
   "source": [
    "p_dental_perc = p_dental[1.0].div(p_dental.sum(axis=1),axis=0)"
   ]
  },
  {
   "cell_type": "code",
   "execution_count": 14,
   "id": "bf7cd07a",
   "metadata": {},
   "outputs": [],
   "source": [
    "c_dental = df.groupby([df['State'],df['pbp_b16b_bendesc_yn']])['Contract Number'].count().unstack(level=1)"
   ]
  },
  {
   "cell_type": "code",
   "execution_count": 15,
   "id": "e188b7fa",
   "metadata": {},
   "outputs": [],
   "source": [
    "c_dental_perc = c_dental[1.0].div(c_dental.sum(axis=1),axis=0)"
   ]
  },
  {
   "cell_type": "code",
   "execution_count": 16,
   "id": "1f264ed6",
   "metadata": {},
   "outputs": [],
   "source": [
    "by_states = pd.DataFrame(dict(p_dental_perc = p_dental_perc, c_dental_perc = c_dental_perc))"
   ]
  },
  {
   "cell_type": "code",
   "execution_count": 17,
   "id": "685aeeae",
   "metadata": {},
   "outputs": [
    {
     "data": {
      "text/html": [
       "<style type=\"text/css\">\n",
       "</style>\n",
       "<table id=\"T_6ee28_\">\n",
       "  <thead>\n",
       "    <tr>\n",
       "      <th class=\"blank level0\" >&nbsp;</th>\n",
       "      <th class=\"col_heading level0 col0\" >p_dental_perc</th>\n",
       "      <th class=\"col_heading level0 col1\" >c_dental_perc</th>\n",
       "    </tr>\n",
       "    <tr>\n",
       "      <th class=\"index_name level0\" >State</th>\n",
       "      <th class=\"blank col0\" >&nbsp;</th>\n",
       "      <th class=\"blank col1\" >&nbsp;</th>\n",
       "    </tr>\n",
       "  </thead>\n",
       "  <tbody>\n",
       "    <tr>\n",
       "      <th id=\"T_6ee28_level0_row0\" class=\"row_heading level0 row0\" >HI</th>\n",
       "      <td id=\"T_6ee28_row0_col0\" class=\"data row0 col0\" >11.77%</td>\n",
       "      <td id=\"T_6ee28_row0_col1\" class=\"data row0 col1\" >10.33%</td>\n",
       "    </tr>\n",
       "    <tr>\n",
       "      <th id=\"T_6ee28_level0_row1\" class=\"row_heading level0 row1\" >MI</th>\n",
       "      <td id=\"T_6ee28_row1_col0\" class=\"data row1 col0\" >15.95%</td>\n",
       "      <td id=\"T_6ee28_row1_col1\" class=\"data row1 col1\" >15.14%</td>\n",
       "    </tr>\n",
       "    <tr>\n",
       "      <th id=\"T_6ee28_level0_row2\" class=\"row_heading level0 row2\" >MN</th>\n",
       "      <td id=\"T_6ee28_row2_col0\" class=\"data row2 col0\" >8.17%</td>\n",
       "      <td id=\"T_6ee28_row2_col1\" class=\"data row2 col1\" >7.95%</td>\n",
       "    </tr>\n",
       "    <tr>\n",
       "      <th id=\"T_6ee28_level0_row3\" class=\"row_heading level0 row3\" >MS</th>\n",
       "      <td id=\"T_6ee28_row3_col0\" class=\"data row3 col0\" >5.80%</td>\n",
       "      <td id=\"T_6ee28_row3_col1\" class=\"data row3 col1\" >5.64%</td>\n",
       "    </tr>\n",
       "    <tr>\n",
       "      <th id=\"T_6ee28_level0_row4\" class=\"row_heading level0 row4\" >NY</th>\n",
       "      <td id=\"T_6ee28_row4_col0\" class=\"data row4 col0\" >14.06%</td>\n",
       "      <td id=\"T_6ee28_row4_col1\" class=\"data row4 col1\" >12.53%</td>\n",
       "    </tr>\n",
       "    <tr>\n",
       "      <th id=\"T_6ee28_level0_row5\" class=\"row_heading level0 row5\" >OK</th>\n",
       "      <td id=\"T_6ee28_row5_col0\" class=\"data row5 col0\" >5.78%</td>\n",
       "      <td id=\"T_6ee28_row5_col1\" class=\"data row5 col1\" >5.20%</td>\n",
       "    </tr>\n",
       "    <tr>\n",
       "      <th id=\"T_6ee28_level0_row6\" class=\"row_heading level0 row6\" >SD</th>\n",
       "      <td id=\"T_6ee28_row6_col0\" class=\"data row6 col0\" >3.30%</td>\n",
       "      <td id=\"T_6ee28_row6_col1\" class=\"data row6 col1\" >3.22%</td>\n",
       "    </tr>\n",
       "    <tr>\n",
       "      <th id=\"T_6ee28_level0_row7\" class=\"row_heading level0 row7\" >TN</th>\n",
       "      <td id=\"T_6ee28_row7_col0\" class=\"data row7 col0\" >9.87%</td>\n",
       "      <td id=\"T_6ee28_row7_col1\" class=\"data row7 col1\" >9.51%</td>\n",
       "    </tr>\n",
       "  </tbody>\n",
       "</table>\n"
      ],
      "text/plain": [
       "<pandas.io.formats.style.Styler at 0x7f7f4160f340>"
      ]
     },
     "execution_count": 17,
     "metadata": {},
     "output_type": "execute_result"
    }
   ],
   "source": [
    "by_states.style.format({\n",
    "    'p_dental_perc': '{:,.2%}'.format,\n",
    "    'c_dental_perc': '{:,.2%}'.format,\n",
    "})"
   ]
  },
  {
   "cell_type": "markdown",
   "id": "f78f09fc",
   "metadata": {},
   "source": [
    "#### 5. Report by top-5 insurers"
   ]
  },
  {
   "cell_type": "markdown",
   "id": "803dd83e",
   "metadata": {},
   "source": [
    "#### Find the top-5 insurers"
   ]
  },
  {
   "cell_type": "code",
   "execution_count": 34,
   "id": "47efca4d",
   "metadata": {},
   "outputs": [
    {
     "name": "stdout",
     "output_type": "stream",
     "text": [
      "['CARE IMPROVEMENT PLUS SOUTH CENTRAL INSURANCE CO.', 'SIERRA HEALTH AND LIFE INSURANCE COMPANY, INC.', 'ANTHEM INSURANCE COMPANIES, INC.', 'HUMANA INSURANCE COMPANY', 'AETNA LIFE INSURANCE COMPANY']\n"
     ]
    }
   ],
   "source": [
    "temp = df.groupby(df['Organization Name']).count().sort_values(by='Contract Number',ascending=False)\n",
    "top_5 = temp.iloc[:5,:]\n",
    "top_5 = top_5.index.to_list()\n",
    "print(top_5)"
   ]
  },
  {
   "cell_type": "code",
   "execution_count": 19,
   "id": "657d04fb",
   "metadata": {},
   "outputs": [],
   "source": [
    "df = df[df['Organization Name'].isin(top_5)]"
   ]
  },
  {
   "cell_type": "code",
   "execution_count": 20,
   "id": "d317c252",
   "metadata": {},
   "outputs": [],
   "source": [
    "p_dental = df.groupby([df['Organization Name'],df['pbp_b16a_bendesc_yn']])['Contract Number'].count().unstack(level=1)"
   ]
  },
  {
   "cell_type": "code",
   "execution_count": 21,
   "id": "df62c3d9",
   "metadata": {},
   "outputs": [],
   "source": [
    "p_dental_perc = p_dental[1.0].div(p_dental.sum(axis=1),axis=0)"
   ]
  },
  {
   "cell_type": "code",
   "execution_count": 22,
   "id": "80f2ae6d",
   "metadata": {},
   "outputs": [],
   "source": [
    "c_dental = df.groupby([df['Organization Name'],df['pbp_b16b_bendesc_yn']])['Contract Number'].count().unstack(level=1)"
   ]
  },
  {
   "cell_type": "code",
   "execution_count": 23,
   "id": "a09e5a20",
   "metadata": {},
   "outputs": [],
   "source": [
    "c_dental_perc = c_dental[1.0].div(c_dental.sum(axis=1),axis=0)"
   ]
  },
  {
   "cell_type": "code",
   "execution_count": 24,
   "id": "6bd1a718",
   "metadata": {},
   "outputs": [],
   "source": [
    "by_insurers = pd.DataFrame(dict(p_dental_perc = p_dental_perc, c_dental_perc = c_dental_perc))"
   ]
  },
  {
   "cell_type": "code",
   "execution_count": 25,
   "id": "d809df4b",
   "metadata": {},
   "outputs": [
    {
     "data": {
      "text/html": [
       "<style type=\"text/css\">\n",
       "</style>\n",
       "<table id=\"T_62cf4_\">\n",
       "  <thead>\n",
       "    <tr>\n",
       "      <th class=\"blank level0\" >&nbsp;</th>\n",
       "      <th class=\"col_heading level0 col0\" >p_dental_perc</th>\n",
       "      <th class=\"col_heading level0 col1\" >c_dental_perc</th>\n",
       "    </tr>\n",
       "    <tr>\n",
       "      <th class=\"index_name level0\" >Organization Name</th>\n",
       "      <th class=\"blank col0\" >&nbsp;</th>\n",
       "      <th class=\"blank col1\" >&nbsp;</th>\n",
       "    </tr>\n",
       "  </thead>\n",
       "  <tbody>\n",
       "    <tr>\n",
       "      <th id=\"T_62cf4_level0_row0\" class=\"row_heading level0 row0\" >AETNA LIFE INSURANCE COMPANY</th>\n",
       "      <td id=\"T_62cf4_row0_col0\" class=\"data row0 col0\" >20.31%</td>\n",
       "      <td id=\"T_62cf4_row0_col1\" class=\"data row0 col1\" >20.29%</td>\n",
       "    </tr>\n",
       "    <tr>\n",
       "      <th id=\"T_62cf4_level0_row1\" class=\"row_heading level0 row1\" >ANTHEM INSURANCE COMPANIES, INC.</th>\n",
       "      <td id=\"T_62cf4_row1_col0\" class=\"data row1 col0\" >0.44%</td>\n",
       "      <td id=\"T_62cf4_row1_col1\" class=\"data row1 col1\" >0.15%</td>\n",
       "    </tr>\n",
       "    <tr>\n",
       "      <th id=\"T_62cf4_level0_row2\" class=\"row_heading level0 row2\" >CARE IMPROVEMENT PLUS SOUTH CENTRAL INSURANCE CO.</th>\n",
       "      <td id=\"T_62cf4_row2_col0\" class=\"data row2 col0\" >1.36%</td>\n",
       "      <td id=\"T_62cf4_row2_col1\" class=\"data row2 col1\" >1.11%</td>\n",
       "    </tr>\n",
       "    <tr>\n",
       "      <th id=\"T_62cf4_level0_row3\" class=\"row_heading level0 row3\" >HUMANA INSURANCE COMPANY</th>\n",
       "      <td id=\"T_62cf4_row3_col0\" class=\"data row3 col0\" >39.66%</td>\n",
       "      <td id=\"T_62cf4_row3_col1\" class=\"data row3 col1\" >39.15%</td>\n",
       "    </tr>\n",
       "    <tr>\n",
       "      <th id=\"T_62cf4_level0_row4\" class=\"row_heading level0 row4\" >SIERRA HEALTH AND LIFE INSURANCE COMPANY, INC.</th>\n",
       "      <td id=\"T_62cf4_row4_col0\" class=\"data row4 col0\" >0.11%</td>\n",
       "      <td id=\"T_62cf4_row4_col1\" class=\"data row4 col1\" >0.10%</td>\n",
       "    </tr>\n",
       "  </tbody>\n",
       "</table>\n"
      ],
      "text/plain": [
       "<pandas.io.formats.style.Styler at 0x7f7f41563340>"
      ]
     },
     "execution_count": 25,
     "metadata": {},
     "output_type": "execute_result"
    }
   ],
   "source": [
    "by_insurers.style.format({\n",
    "    'p_dental_perc': '{:,.2%}'.format,\n",
    "    'c_dental_perc': '{:,.2%}'.format,\n",
    "})"
   ]
  },
  {
   "cell_type": "code",
   "execution_count": null,
   "id": "3263d86b",
   "metadata": {},
   "outputs": [],
   "source": []
  }
 ],
 "metadata": {
  "kernelspec": {
   "display_name": "Python 3 (ipykernel)",
   "language": "python",
   "name": "python3"
  },
  "language_info": {
   "codemirror_mode": {
    "name": "ipython",
    "version": 3
   },
   "file_extension": ".py",
   "mimetype": "text/x-python",
   "name": "python",
   "nbconvert_exporter": "python",
   "pygments_lexer": "ipython3",
   "version": "3.8.8"
  }
 },
 "nbformat": 4,
 "nbformat_minor": 5
}
