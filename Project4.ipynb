{
 "cells": [
  {
   "cell_type": "code",
   "execution_count": 3,
   "id": "78f31e21",
   "metadata": {},
   "outputs": [
    {
     "name": "stderr",
     "output_type": "stream",
     "text": [
      "/Users/cynding/opt/anaconda3/lib/python3.8/site-packages/IPython/core/interactiveshell.py:3444: DtypeWarning: Columns (2,5,8,54,55,73,74,75,76,78) have mixed types.Specify dtype option on import or set low_memory=False.\n",
      "  exec(code_obj, self.user_global_ns, self.user_ns)\n"
     ]
    }
   ],
   "source": [
    "import pandas as pd\n",
    "inpatient = pd.read_csv(\"/Users/cynding/Desktop/Brandeis 2022 Spring/HS 256F - Healthcare Data Analytics/HW4/VTINP16_upd.TXT\")"
   ]
  },
  {
   "cell_type": "code",
   "execution_count": 28,
   "id": "ccea7000",
   "metadata": {},
   "outputs": [],
   "source": [
    "a = inpatient[inpatient['UNIQ']==3692]\n",
    "a.to_csv('/Users/cynding/Desktop/inpatient.csv')"
   ]
  },
  {
   "cell_type": "markdown",
   "id": "44b33951",
   "metadata": {},
   "source": [
    "A young man who is an urgent patient using Blue Cross Insurance that is diagnosed with Psychoses. He stayed in the hospital for 68 days and went back home for own or family care."
   ]
  },
  {
   "cell_type": "code",
   "execution_count": 5,
   "id": "acc289f3",
   "metadata": {},
   "outputs": [
    {
     "name": "stderr",
     "output_type": "stream",
     "text": [
      "/Users/cynding/opt/anaconda3/lib/python3.8/site-packages/IPython/core/interactiveshell.py:3444: DtypeWarning: Columns (2,5,8,54,55,56,57,69) have mixed types.Specify dtype option on import or set low_memory=False.\n",
      "  exec(code_obj, self.user_global_ns, self.user_ns)\n"
     ]
    }
   ],
   "source": [
    "ed = pd.read_csv('/Users/cynding/Desktop/Brandeis 2022 Spring/HS 256F - Healthcare Data Analytics/HW4/VTED16.TXT')"
   ]
  },
  {
   "cell_type": "code",
   "execution_count": 30,
   "id": "e89b0e33",
   "metadata": {},
   "outputs": [],
   "source": [
    "b = ed[ed['UNIQ']==3692]\n",
    "b.to_csv('/Users/cynding/Desktop/ed.csv')"
   ]
  },
  {
   "cell_type": "code",
   "execution_count": 34,
   "id": "2557596c",
   "metadata": {},
   "outputs": [
    {
     "name": "stderr",
     "output_type": "stream",
     "text": [
      "/Users/cynding/opt/anaconda3/lib/python3.8/site-packages/IPython/core/interactiveshell.py:3444: DtypeWarning: Columns (6,7,9) have mixed types.Specify dtype option on import or set low_memory=False.\n",
      "  exec(code_obj, self.user_global_ns, self.user_ns)\n"
     ]
    }
   ],
   "source": [
    "rc = pd.read_csv('/Users/cynding/Desktop/Brandeis 2022 Spring/HS 256F - Healthcare Data Analytics/HW4/VTREVCODE16.TXT')"
   ]
  },
  {
   "cell_type": "code",
   "execution_count": 35,
   "id": "ad6c4a77",
   "metadata": {},
   "outputs": [
    {
     "data": {
      "text/plain": [
       "Index(['dy', 'hnum2', 'DISCD_QTR', 'BTYPE', 'Uniq', 'REVCODE', 'REVCHRGS',\n",
       "       'REVUNITS', 'CPT', 'PCCR', 'PRIMARY_CPT', 'SFLAG', 'ccsproc',\n",
       "       'ccsprocgrp'],\n",
       "      dtype='object')"
      ]
     },
     "execution_count": 35,
     "metadata": {},
     "output_type": "execute_result"
    }
   ],
   "source": [
    "rc.columns"
   ]
  },
  {
   "cell_type": "code",
   "execution_count": 37,
   "id": "c078a288",
   "metadata": {},
   "outputs": [],
   "source": [
    "c = rc[rc['Uniq']==3692]"
   ]
  },
  {
   "cell_type": "code",
   "execution_count": 38,
   "id": "908209d4",
   "metadata": {},
   "outputs": [],
   "source": [
    "c.to_csv('/Users/cynding/Desktop/rc.csv')"
   ]
  },
  {
   "cell_type": "code",
   "execution_count": null,
   "id": "fec14921",
   "metadata": {},
   "outputs": [],
   "source": []
  }
 ],
 "metadata": {
  "kernelspec": {
   "display_name": "Python 3 (ipykernel)",
   "language": "python",
   "name": "python3"
  },
  "language_info": {
   "codemirror_mode": {
    "name": "ipython",
    "version": 3
   },
   "file_extension": ".py",
   "mimetype": "text/x-python",
   "name": "python",
   "nbconvert_exporter": "python",
   "pygments_lexer": "ipython3",
   "version": "3.8.8"
  }
 },
 "nbformat": 4,
 "nbformat_minor": 5
}
