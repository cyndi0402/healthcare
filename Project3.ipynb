{
 "cells": [
  {
   "cell_type": "code",
   "execution_count": 1,
   "id": "d30fb95c",
   "metadata": {},
   "outputs": [
    {
     "name": "stderr",
     "output_type": "stream",
     "text": [
      "/Users/cynding/opt/anaconda3/lib/python3.8/site-packages/IPython/core/interactiveshell.py:3444: DtypeWarning: Columns (34,48,53,66,85,86,87,89,103,104,112,113,114,130,132,134,136,137,138,139,140,141,142,143,144,145,146,147,160,165,166,167,170,171,183,186,191,192,193,194,196,197,201,209,211,216,218,220,221,222,223,226,232,248,249,254,256,257,263,264,265,266,267,269,270,271,281,282,283,284,289,290,291,292,293,294,295,296,298,300,302,309,310) have mixed types.Specify dtype option on import or set low_memory=False.\n",
      "  exec(code_obj, self.user_global_ns, self.user_ns)\n"
     ]
    }
   ],
   "source": [
    "import pandas as pd\n",
    "import numpy as np\n",
    "\n",
    "raw_df = pd.read_csv('/Users/cynding/Desktop/Brandeis 2022 Spring/HS 256F - Healthcare Data Analytics/HW3/MCBSpuf2016/puf2016.csv')"
   ]
  },
  {
   "cell_type": "code",
   "execution_count": 2,
   "id": "927ace64",
   "metadata": {},
   "outputs": [
    {
     "data": {
      "text/html": [
       "<div>\n",
       "<style scoped>\n",
       "    .dataframe tbody tr th:only-of-type {\n",
       "        vertical-align: middle;\n",
       "    }\n",
       "\n",
       "    .dataframe tbody tr th {\n",
       "        vertical-align: top;\n",
       "    }\n",
       "\n",
       "    .dataframe thead th {\n",
       "        text-align: right;\n",
       "    }\n",
       "</style>\n",
       "<table border=\"1\" class=\"dataframe\">\n",
       "  <thead>\n",
       "    <tr style=\"text-align: right;\">\n",
       "      <th></th>\n",
       "      <th>PUF_ID</th>\n",
       "      <th>SVYYR</th>\n",
       "      <th>ADM_H_ENT</th>\n",
       "      <th>ADM_H_MEDSTA</th>\n",
       "      <th>ADM_H_GHPSW</th>\n",
       "      <th>ADM_H_PDRS</th>\n",
       "      <th>ADM_OP_MDCD</th>\n",
       "      <th>ADM_PARTD</th>\n",
       "      <th>ADM_ACOFLAG</th>\n",
       "      <th>ADM_FFS_FLAG_YR</th>\n",
       "      <th>...</th>\n",
       "      <th>EEYRS091</th>\n",
       "      <th>EEYRS092</th>\n",
       "      <th>EEYRS093</th>\n",
       "      <th>EEYRS094</th>\n",
       "      <th>EEYRS095</th>\n",
       "      <th>EEYRS096</th>\n",
       "      <th>EEYRS097</th>\n",
       "      <th>EEYRS098</th>\n",
       "      <th>EEYRS099</th>\n",
       "      <th>EEYRS100</th>\n",
       "    </tr>\n",
       "  </thead>\n",
       "  <tbody>\n",
       "    <tr>\n",
       "      <th>0</th>\n",
       "      <td>16000001</td>\n",
       "      <td>2016</td>\n",
       "      <td>2</td>\n",
       "      <td>3</td>\n",
       "      <td>2</td>\n",
       "      <td>1.0</td>\n",
       "      <td>2</td>\n",
       "      <td>1</td>\n",
       "      <td>1</td>\n",
       "      <td>3</td>\n",
       "      <td>...</td>\n",
       "      <td>1730.863696</td>\n",
       "      <td>315.422808</td>\n",
       "      <td>1772.439746</td>\n",
       "      <td>2014.649096</td>\n",
       "      <td>325.924565</td>\n",
       "      <td>1515.141757</td>\n",
       "      <td>313.119607</td>\n",
       "      <td>2046.638105</td>\n",
       "      <td>393.058043</td>\n",
       "      <td>380.735043</td>\n",
       "    </tr>\n",
       "    <tr>\n",
       "      <th>1</th>\n",
       "      <td>16000002</td>\n",
       "      <td>2016</td>\n",
       "      <td>1</td>\n",
       "      <td>1</td>\n",
       "      <td>2</td>\n",
       "      <td>1.0</td>\n",
       "      <td>1</td>\n",
       "      <td>2</td>\n",
       "      <td>2</td>\n",
       "      <td>3</td>\n",
       "      <td>...</td>\n",
       "      <td>6448.706281</td>\n",
       "      <td>24524.935702</td>\n",
       "      <td>4837.843981</td>\n",
       "      <td>7129.014867</td>\n",
       "      <td>29151.731944</td>\n",
       "      <td>29396.561818</td>\n",
       "      <td>5072.077989</td>\n",
       "      <td>27137.197856</td>\n",
       "      <td>5097.901657</td>\n",
       "      <td>4878.055919</td>\n",
       "    </tr>\n",
       "    <tr>\n",
       "      <th>2</th>\n",
       "      <td>16000006</td>\n",
       "      <td>2016</td>\n",
       "      <td>2</td>\n",
       "      <td>1</td>\n",
       "      <td>1</td>\n",
       "      <td>1.0</td>\n",
       "      <td>1</td>\n",
       "      <td>1</td>\n",
       "      <td>2</td>\n",
       "      <td>1</td>\n",
       "      <td>...</td>\n",
       "      <td>3589.669228</td>\n",
       "      <td>499.620974</td>\n",
       "      <td>517.477715</td>\n",
       "      <td>2904.884066</td>\n",
       "      <td>2866.824292</td>\n",
       "      <td>580.906592</td>\n",
       "      <td>535.377989</td>\n",
       "      <td>3361.963502</td>\n",
       "      <td>3010.362589</td>\n",
       "      <td>497.151719</td>\n",
       "    </tr>\n",
       "    <tr>\n",
       "      <th>3</th>\n",
       "      <td>16000008</td>\n",
       "      <td>2016</td>\n",
       "      <td>2</td>\n",
       "      <td>1</td>\n",
       "      <td>1</td>\n",
       "      <td>1.0</td>\n",
       "      <td>1</td>\n",
       "      <td>1</td>\n",
       "      <td>2</td>\n",
       "      <td>1</td>\n",
       "      <td>...</td>\n",
       "      <td>3740.417968</td>\n",
       "      <td>783.611754</td>\n",
       "      <td>4256.555251</td>\n",
       "      <td>824.458231</td>\n",
       "      <td>4553.515534</td>\n",
       "      <td>665.623951</td>\n",
       "      <td>767.555640</td>\n",
       "      <td>680.624207</td>\n",
       "      <td>3780.704442</td>\n",
       "      <td>671.883483</td>\n",
       "    </tr>\n",
       "    <tr>\n",
       "      <th>4</th>\n",
       "      <td>16000012</td>\n",
       "      <td>2016</td>\n",
       "      <td>2</td>\n",
       "      <td>1</td>\n",
       "      <td>2</td>\n",
       "      <td>1.0</td>\n",
       "      <td>1</td>\n",
       "      <td>1</td>\n",
       "      <td>2</td>\n",
       "      <td>3</td>\n",
       "      <td>...</td>\n",
       "      <td>4104.799801</td>\n",
       "      <td>749.123388</td>\n",
       "      <td>3521.030891</td>\n",
       "      <td>713.109543</td>\n",
       "      <td>3600.575591</td>\n",
       "      <td>705.059726</td>\n",
       "      <td>3831.571491</td>\n",
       "      <td>650.836074</td>\n",
       "      <td>4093.686322</td>\n",
       "      <td>768.398950</td>\n",
       "    </tr>\n",
       "  </tbody>\n",
       "</table>\n",
       "<p>5 rows × 412 columns</p>\n",
       "</div>"
      ],
      "text/plain": [
       "     PUF_ID  SVYYR  ADM_H_ENT  ADM_H_MEDSTA  ADM_H_GHPSW  ADM_H_PDRS  \\\n",
       "0  16000001   2016          2             3            2         1.0   \n",
       "1  16000002   2016          1             1            2         1.0   \n",
       "2  16000006   2016          2             1            1         1.0   \n",
       "3  16000008   2016          2             1            1         1.0   \n",
       "4  16000012   2016          2             1            2         1.0   \n",
       "\n",
       "   ADM_OP_MDCD  ADM_PARTD  ADM_ACOFLAG  ADM_FFS_FLAG_YR  ...     EEYRS091  \\\n",
       "0            2          1            1                3  ...  1730.863696   \n",
       "1            1          2            2                3  ...  6448.706281   \n",
       "2            1          1            2                1  ...  3589.669228   \n",
       "3            1          1            2                1  ...  3740.417968   \n",
       "4            1          1            2                3  ...  4104.799801   \n",
       "\n",
       "       EEYRS092     EEYRS093     EEYRS094      EEYRS095      EEYRS096  \\\n",
       "0    315.422808  1772.439746  2014.649096    325.924565   1515.141757   \n",
       "1  24524.935702  4837.843981  7129.014867  29151.731944  29396.561818   \n",
       "2    499.620974   517.477715  2904.884066   2866.824292    580.906592   \n",
       "3    783.611754  4256.555251   824.458231   4553.515534    665.623951   \n",
       "4    749.123388  3521.030891   713.109543   3600.575591    705.059726   \n",
       "\n",
       "      EEYRS097      EEYRS098     EEYRS099     EEYRS100  \n",
       "0   313.119607   2046.638105   393.058043   380.735043  \n",
       "1  5072.077989  27137.197856  5097.901657  4878.055919  \n",
       "2   535.377989   3361.963502  3010.362589   497.151719  \n",
       "3   767.555640    680.624207  3780.704442   671.883483  \n",
       "4  3831.571491    650.836074  4093.686322   768.398950  \n",
       "\n",
       "[5 rows x 412 columns]"
      ]
     },
     "execution_count": 2,
     "metadata": {},
     "output_type": "execute_result"
    }
   ],
   "source": [
    "raw_df.head()"
   ]
  },
  {
   "cell_type": "code",
   "execution_count": 3,
   "id": "75b367d8",
   "metadata": {},
   "outputs": [
    {
     "data": {
      "text/plain": [
       "Index(['PUF_ID', 'SVYYR', 'ADM_H_ENT', 'ADM_H_MEDSTA', 'ADM_H_GHPSW',\n",
       "       'ADM_H_PDRS', 'ADM_OP_MDCD', 'ADM_PARTD', 'ADM_ACOFLAG',\n",
       "       'ADM_FFS_FLAG_YR',\n",
       "       ...\n",
       "       'EEYRS091', 'EEYRS092', 'EEYRS093', 'EEYRS094', 'EEYRS095', 'EEYRS096',\n",
       "       'EEYRS097', 'EEYRS098', 'EEYRS099', 'EEYRS100'],\n",
       "      dtype='object', length=412)"
      ]
     },
     "execution_count": 3,
     "metadata": {},
     "output_type": "execute_result"
    }
   ],
   "source": [
    "raw_df.columns"
   ]
  },
  {
   "cell_type": "markdown",
   "id": "b7cdf8d0",
   "metadata": {},
   "source": [
    "### Q6 Loneliness & Health"
   ]
  },
  {
   "cell_type": "code",
   "execution_count": 4,
   "id": "0c9fd9ee",
   "metadata": {},
   "outputs": [
    {
     "data": {
      "text/plain": [
       "(10629, 413)"
      ]
     },
     "execution_count": 4,
     "metadata": {},
     "output_type": "execute_result"
    }
   ],
   "source": [
    "# Filter 65+ agegroup\n",
    "survey_df = raw_df[raw_df['ADM_H_MEDSTA']==1].reset_index()\n",
    "survey_df.shape"
   ]
  },
  {
   "cell_type": "code",
   "execution_count": 5,
   "id": "15122dee",
   "metadata": {},
   "outputs": [
    {
     "name": "stdout",
     "output_type": "stream",
     "text": [
      "['3' '1' '2' '4' '5' 'D' nan 'R']\n",
      "['1' '2' '4' '3' 'D' 'R' 4 2 1 3]\n"
     ]
    }
   ],
   "source": [
    "print(survey_df['HLT_GENHELTH'].unique())\n",
    "print(survey_df['DEM_MARSTA'].unique())"
   ]
  },
  {
   "cell_type": "code",
   "execution_count": 6,
   "id": "4c478599",
   "metadata": {},
   "outputs": [
    {
     "data": {
      "text/plain": [
       "(10623, 413)"
      ]
     },
     "execution_count": 6,
     "metadata": {},
     "output_type": "execute_result"
    }
   ],
   "source": [
    "survey_df.dropna(subset = ['HLT_GENHELTH','DEM_MARSTA'], inplace=True)\n",
    "survey_df.shape"
   ]
  },
  {
   "cell_type": "code",
   "execution_count": 7,
   "id": "5d18544a",
   "metadata": {},
   "outputs": [],
   "source": [
    "survey_df = survey_df[(survey_df['HLT_GENHELTH'] != 'D') & \n",
    "                     (survey_df['HLT_GENHELTH'] != 'R') &\n",
    "                     (survey_df['DEM_MARSTA'] != 'D') &\n",
    "                     (survey_df['DEM_MARSTA'] != 'R')]"
   ]
  },
  {
   "cell_type": "markdown",
   "id": "451771f2",
   "metadata": {},
   "source": [
    "Recode HLT_GENHELTH to HealthCondition"
   ]
  },
  {
   "cell_type": "code",
   "execution_count": 8,
   "id": "b47805f3",
   "metadata": {},
   "outputs": [],
   "source": [
    "survey_df['HLT_GENHELTH'] = survey_df['HLT_GENHELTH'].astype(int)\n",
    "survey_df['HealthCondition'] = np.where(survey_df['HLT_GENHELTH'] >= 4, 'PoorFairHealth', 'GoodHealth')"
   ]
  },
  {
   "cell_type": "markdown",
   "id": "a5bea5d5",
   "metadata": {},
   "source": [
    "Recode DEM_MARSTA to Loneliness"
   ]
  },
  {
   "cell_type": "code",
   "execution_count": 9,
   "id": "aab29868",
   "metadata": {},
   "outputs": [],
   "source": [
    "survey_df['DEM_MARSTA'] = survey_df['DEM_MARSTA'].astype(int)\n",
    "survey_df['Loneliness'] = np.where(survey_df['DEM_MARSTA'] == 1, 'WithFamily', 'LivingAlone')"
   ]
  },
  {
   "cell_type": "code",
   "execution_count": 25,
   "id": "c8940a29",
   "metadata": {},
   "outputs": [
    {
     "name": "stdout",
     "output_type": "stream",
     "text": [
      "HealthCondition  GoodHealth  PoorFairHealth\n",
      "Loneliness                                 \n",
      "LivingAlone            4033            1049\n",
      "WithFamily             4590             895\n",
      "4033 1049 4590 895\n"
     ]
    }
   ],
   "source": [
    "crosstab1 = pd.crosstab(survey_df['Loneliness'],survey_df['HealthCondition'])\n",
    "print(crosstab1)\n",
    "print(crosstab1.iloc[0,0],crosstab1.iloc[0,1],crosstab1.iloc[1,0],crosstab1.iloc[1,1])"
   ]
  },
  {
   "cell_type": "code",
   "execution_count": 27,
   "id": "468679e6",
   "metadata": {},
   "outputs": [
    {
     "data": {
      "text/plain": [
       "1.138422792013177e-08"
      ]
     },
     "execution_count": 27,
     "metadata": {},
     "output_type": "execute_result"
    }
   ],
   "source": [
    "from scipy.stats import fisher_exact\n",
    "oddsratio,pvalue=fisher_exact([[crosstab1.iloc[0,0],crosstab1.iloc[0,1]], [crosstab1.iloc[1,0],crosstab1.iloc[1,1]]])\n",
    "pvalue"
   ]
  },
  {
   "cell_type": "markdown",
   "id": "59d26ab7",
   "metadata": {},
   "source": [
    "### Q7 Loneliness & Risk of depression"
   ]
  },
  {
   "cell_type": "code",
   "execution_count": 11,
   "id": "c59b628d",
   "metadata": {},
   "outputs": [],
   "source": [
    "survey_df['Depression'] = np.where(survey_df['HLT_OCDEPRSS'] == '1', 'Yes', 'No')"
   ]
  },
  {
   "cell_type": "code",
   "execution_count": 30,
   "id": "0b656ef3",
   "metadata": {},
   "outputs": [],
   "source": [
    "crosstab2 = pd.crosstab(survey_df['Loneliness'],survey_df['Depression'])"
   ]
  },
  {
   "cell_type": "code",
   "execution_count": 31,
   "id": "5ad33e46",
   "metadata": {},
   "outputs": [
    {
     "data": {
      "text/plain": [
       "1.4913376578109423e-16"
      ]
     },
     "execution_count": 31,
     "metadata": {},
     "output_type": "execute_result"
    }
   ],
   "source": [
    "oddsratio,pvalue=fisher_exact([[crosstab2.iloc[0,0],crosstab2.iloc[0,1]], [crosstab2.iloc[1,0],crosstab2.iloc[1,1]]])\n",
    "pvalue"
   ]
  },
  {
   "cell_type": "markdown",
   "id": "358eae50",
   "metadata": {},
   "source": [
    "Fisher exact test\n",
    "https://www.youtube.com/watch?v=gt9_x_rhLR8"
   ]
  },
  {
   "cell_type": "code",
   "execution_count": 34,
   "id": "79bc1d3f",
   "metadata": {},
   "outputs": [
    {
     "data": {
      "text/plain": [
       "0.04284138812876822"
      ]
     },
     "execution_count": 34,
     "metadata": {},
     "output_type": "execute_result"
    }
   ],
   "source": [
    "oddsratio,pvalue=fisher_exact([[24,7], [19,16]],alternative='greater')\n",
    "pvalue"
   ]
  },
  {
   "cell_type": "code",
   "execution_count": null,
   "id": "02348818",
   "metadata": {},
   "outputs": [],
   "source": []
  }
 ],
 "metadata": {
  "kernelspec": {
   "display_name": "Python 3 (ipykernel)",
   "language": "python",
   "name": "python3"
  },
  "language_info": {
   "codemirror_mode": {
    "name": "ipython",
    "version": 3
   },
   "file_extension": ".py",
   "mimetype": "text/x-python",
   "name": "python",
   "nbconvert_exporter": "python",
   "pygments_lexer": "ipython3",
   "version": "3.8.8"
  }
 },
 "nbformat": 4,
 "nbformat_minor": 5
}
